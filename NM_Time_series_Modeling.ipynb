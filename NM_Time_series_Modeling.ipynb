{
  "cells": [
    {
      "cell_type": "markdown",
      "metadata": {
        "id": "wykXPWIRUibE"
      },
      "source": [
        "#  Real Estate Value Prediction for Different Locations"
      ]
    },
    {
      "cell_type": "markdown",
      "metadata": {
        "id": "vi5U8C4UUibG"
      },
      "source": [
        "In this project, we dive into the real estate landscape by analyzing price trends across different zip codes, utilizing data sourced from Zillow Research.\n",
        "\n",
        "Acting as consultants for MDN real estate investment firm, our objective is to identify the best locations for their investments. Our analysis will explore the potential correlation with size rank and value of property as an indicator, helping us find the top 10 counties deemed most promising for investment, while also flagging the bottom 10 that warrant caution."
      ]
    },
    {
      "cell_type": "code",
      "execution_count": 2,
      "metadata": {
        "id": "FYK9lMysUibH"
      },
      "outputs": [],
      "source": [
        "#Import relevant libraries\n",
        "import numpy as np\n",
        "import pandas as pd\n",
        "import matplotlib.pyplot as plt\n",
        "\n",
        "%matplotlib inline"
      ]
    },
    {
      "cell_type": "code",
      "execution_count": null,
      "metadata": {
        "colab": {
          "base_uri": "https://localhost:8080/",
          "height": 73
        },
        "id": "oSXXXzFqVCO9",
        "outputId": "f952ae2f-713f-4824-a184-fd53e28e813c"
      },
      "outputs": [],
      "source": [
        "#from google.colab import files\n",
        "\n",
        "#uploaded = files.upload()"
      ]
    },
    {
      "cell_type": "code",
      "execution_count": 3,
      "metadata": {
        "colab": {
          "base_uri": "https://localhost:8080/",
          "height": 547
        },
        "id": "nsVKgiYbUibH",
        "outputId": "1cb35a2e-9b09-4ec0-8638-3946c5a2e84e"
      },
      "outputs": [
        {
          "data": {
            "text/html": [
              "<div>\n",
              "<style scoped>\n",
              "    .dataframe tbody tr th:only-of-type {\n",
              "        vertical-align: middle;\n",
              "    }\n",
              "\n",
              "    .dataframe tbody tr th {\n",
              "        vertical-align: top;\n",
              "    }\n",
              "\n",
              "    .dataframe thead th {\n",
              "        text-align: right;\n",
              "    }\n",
              "</style>\n",
              "<table border=\"1\" class=\"dataframe\">\n",
              "  <thead>\n",
              "    <tr style=\"text-align: right;\">\n",
              "      <th></th>\n",
              "      <th>RegionID</th>\n",
              "      <th>RegionName</th>\n",
              "      <th>City</th>\n",
              "      <th>State</th>\n",
              "      <th>Metro</th>\n",
              "      <th>CountyName</th>\n",
              "      <th>SizeRank</th>\n",
              "      <th>1996-04</th>\n",
              "      <th>1996-05</th>\n",
              "      <th>1996-06</th>\n",
              "      <th>...</th>\n",
              "      <th>2017-07</th>\n",
              "      <th>2017-08</th>\n",
              "      <th>2017-09</th>\n",
              "      <th>2017-10</th>\n",
              "      <th>2017-11</th>\n",
              "      <th>2017-12</th>\n",
              "      <th>2018-01</th>\n",
              "      <th>2018-02</th>\n",
              "      <th>2018-03</th>\n",
              "      <th>2018-04</th>\n",
              "    </tr>\n",
              "  </thead>\n",
              "  <tbody>\n",
              "    <tr>\n",
              "      <th>0</th>\n",
              "      <td>84654</td>\n",
              "      <td>60657</td>\n",
              "      <td>Chicago</td>\n",
              "      <td>IL</td>\n",
              "      <td>Chicago</td>\n",
              "      <td>Cook</td>\n",
              "      <td>1</td>\n",
              "      <td>334200.0</td>\n",
              "      <td>335400.0</td>\n",
              "      <td>336500.0</td>\n",
              "      <td>...</td>\n",
              "      <td>1005500</td>\n",
              "      <td>1007500</td>\n",
              "      <td>1007800</td>\n",
              "      <td>1009600</td>\n",
              "      <td>1013300</td>\n",
              "      <td>1018700</td>\n",
              "      <td>1024400</td>\n",
              "      <td>1030700</td>\n",
              "      <td>1033800</td>\n",
              "      <td>1030600</td>\n",
              "    </tr>\n",
              "    <tr>\n",
              "      <th>1</th>\n",
              "      <td>90668</td>\n",
              "      <td>75070</td>\n",
              "      <td>McKinney</td>\n",
              "      <td>TX</td>\n",
              "      <td>Dallas-Fort Worth</td>\n",
              "      <td>Collin</td>\n",
              "      <td>2</td>\n",
              "      <td>235700.0</td>\n",
              "      <td>236900.0</td>\n",
              "      <td>236700.0</td>\n",
              "      <td>...</td>\n",
              "      <td>308000</td>\n",
              "      <td>310000</td>\n",
              "      <td>312500</td>\n",
              "      <td>314100</td>\n",
              "      <td>315000</td>\n",
              "      <td>316600</td>\n",
              "      <td>318100</td>\n",
              "      <td>319600</td>\n",
              "      <td>321100</td>\n",
              "      <td>321800</td>\n",
              "    </tr>\n",
              "    <tr>\n",
              "      <th>2</th>\n",
              "      <td>91982</td>\n",
              "      <td>77494</td>\n",
              "      <td>Katy</td>\n",
              "      <td>TX</td>\n",
              "      <td>Houston</td>\n",
              "      <td>Harris</td>\n",
              "      <td>3</td>\n",
              "      <td>210400.0</td>\n",
              "      <td>212200.0</td>\n",
              "      <td>212200.0</td>\n",
              "      <td>...</td>\n",
              "      <td>321000</td>\n",
              "      <td>320600</td>\n",
              "      <td>320200</td>\n",
              "      <td>320400</td>\n",
              "      <td>320800</td>\n",
              "      <td>321200</td>\n",
              "      <td>321200</td>\n",
              "      <td>323000</td>\n",
              "      <td>326900</td>\n",
              "      <td>329900</td>\n",
              "    </tr>\n",
              "    <tr>\n",
              "      <th>3</th>\n",
              "      <td>84616</td>\n",
              "      <td>60614</td>\n",
              "      <td>Chicago</td>\n",
              "      <td>IL</td>\n",
              "      <td>Chicago</td>\n",
              "      <td>Cook</td>\n",
              "      <td>4</td>\n",
              "      <td>498100.0</td>\n",
              "      <td>500900.0</td>\n",
              "      <td>503100.0</td>\n",
              "      <td>...</td>\n",
              "      <td>1289800</td>\n",
              "      <td>1287700</td>\n",
              "      <td>1287400</td>\n",
              "      <td>1291500</td>\n",
              "      <td>1296600</td>\n",
              "      <td>1299000</td>\n",
              "      <td>1302700</td>\n",
              "      <td>1306400</td>\n",
              "      <td>1308500</td>\n",
              "      <td>1307000</td>\n",
              "    </tr>\n",
              "    <tr>\n",
              "      <th>4</th>\n",
              "      <td>93144</td>\n",
              "      <td>79936</td>\n",
              "      <td>El Paso</td>\n",
              "      <td>TX</td>\n",
              "      <td>El Paso</td>\n",
              "      <td>El Paso</td>\n",
              "      <td>5</td>\n",
              "      <td>77300.0</td>\n",
              "      <td>77300.0</td>\n",
              "      <td>77300.0</td>\n",
              "      <td>...</td>\n",
              "      <td>119100</td>\n",
              "      <td>119400</td>\n",
              "      <td>120000</td>\n",
              "      <td>120300</td>\n",
              "      <td>120300</td>\n",
              "      <td>120300</td>\n",
              "      <td>120300</td>\n",
              "      <td>120500</td>\n",
              "      <td>121000</td>\n",
              "      <td>121500</td>\n",
              "    </tr>\n",
              "    <tr>\n",
              "      <th>...</th>\n",
              "      <td>...</td>\n",
              "      <td>...</td>\n",
              "      <td>...</td>\n",
              "      <td>...</td>\n",
              "      <td>...</td>\n",
              "      <td>...</td>\n",
              "      <td>...</td>\n",
              "      <td>...</td>\n",
              "      <td>...</td>\n",
              "      <td>...</td>\n",
              "      <td>...</td>\n",
              "      <td>...</td>\n",
              "      <td>...</td>\n",
              "      <td>...</td>\n",
              "      <td>...</td>\n",
              "      <td>...</td>\n",
              "      <td>...</td>\n",
              "      <td>...</td>\n",
              "      <td>...</td>\n",
              "      <td>...</td>\n",
              "      <td>...</td>\n",
              "    </tr>\n",
              "    <tr>\n",
              "      <th>14718</th>\n",
              "      <td>58333</td>\n",
              "      <td>1338</td>\n",
              "      <td>Ashfield</td>\n",
              "      <td>MA</td>\n",
              "      <td>Greenfield Town</td>\n",
              "      <td>Franklin</td>\n",
              "      <td>14719</td>\n",
              "      <td>94600.0</td>\n",
              "      <td>94300.0</td>\n",
              "      <td>94000.0</td>\n",
              "      <td>...</td>\n",
              "      <td>216800</td>\n",
              "      <td>217700</td>\n",
              "      <td>218600</td>\n",
              "      <td>218500</td>\n",
              "      <td>218100</td>\n",
              "      <td>216400</td>\n",
              "      <td>213100</td>\n",
              "      <td>209800</td>\n",
              "      <td>209200</td>\n",
              "      <td>209300</td>\n",
              "    </tr>\n",
              "    <tr>\n",
              "      <th>14719</th>\n",
              "      <td>59107</td>\n",
              "      <td>3293</td>\n",
              "      <td>Woodstock</td>\n",
              "      <td>NH</td>\n",
              "      <td>Claremont</td>\n",
              "      <td>Grafton</td>\n",
              "      <td>14720</td>\n",
              "      <td>92700.0</td>\n",
              "      <td>92500.0</td>\n",
              "      <td>92400.0</td>\n",
              "      <td>...</td>\n",
              "      <td>202100</td>\n",
              "      <td>208400</td>\n",
              "      <td>212200</td>\n",
              "      <td>215200</td>\n",
              "      <td>214300</td>\n",
              "      <td>213100</td>\n",
              "      <td>213700</td>\n",
              "      <td>218300</td>\n",
              "      <td>222700</td>\n",
              "      <td>225800</td>\n",
              "    </tr>\n",
              "    <tr>\n",
              "      <th>14720</th>\n",
              "      <td>75672</td>\n",
              "      <td>40404</td>\n",
              "      <td>Berea</td>\n",
              "      <td>KY</td>\n",
              "      <td>Richmond</td>\n",
              "      <td>Madison</td>\n",
              "      <td>14721</td>\n",
              "      <td>57100.0</td>\n",
              "      <td>57300.0</td>\n",
              "      <td>57500.0</td>\n",
              "      <td>...</td>\n",
              "      <td>121800</td>\n",
              "      <td>122800</td>\n",
              "      <td>124600</td>\n",
              "      <td>126700</td>\n",
              "      <td>128800</td>\n",
              "      <td>130600</td>\n",
              "      <td>131700</td>\n",
              "      <td>132500</td>\n",
              "      <td>133000</td>\n",
              "      <td>133400</td>\n",
              "    </tr>\n",
              "    <tr>\n",
              "      <th>14721</th>\n",
              "      <td>93733</td>\n",
              "      <td>81225</td>\n",
              "      <td>Mount Crested Butte</td>\n",
              "      <td>CO</td>\n",
              "      <td>NaN</td>\n",
              "      <td>Gunnison</td>\n",
              "      <td>14722</td>\n",
              "      <td>191100.0</td>\n",
              "      <td>192400.0</td>\n",
              "      <td>193700.0</td>\n",
              "      <td>...</td>\n",
              "      <td>662800</td>\n",
              "      <td>671200</td>\n",
              "      <td>682400</td>\n",
              "      <td>695600</td>\n",
              "      <td>695500</td>\n",
              "      <td>694700</td>\n",
              "      <td>706400</td>\n",
              "      <td>705300</td>\n",
              "      <td>681500</td>\n",
              "      <td>664400</td>\n",
              "    </tr>\n",
              "    <tr>\n",
              "      <th>14722</th>\n",
              "      <td>95851</td>\n",
              "      <td>89155</td>\n",
              "      <td>Mesquite</td>\n",
              "      <td>NV</td>\n",
              "      <td>Las Vegas</td>\n",
              "      <td>Clark</td>\n",
              "      <td>14723</td>\n",
              "      <td>176400.0</td>\n",
              "      <td>176300.0</td>\n",
              "      <td>176100.0</td>\n",
              "      <td>...</td>\n",
              "      <td>333800</td>\n",
              "      <td>336400</td>\n",
              "      <td>339700</td>\n",
              "      <td>343800</td>\n",
              "      <td>346800</td>\n",
              "      <td>348900</td>\n",
              "      <td>350400</td>\n",
              "      <td>353000</td>\n",
              "      <td>356000</td>\n",
              "      <td>357200</td>\n",
              "    </tr>\n",
              "  </tbody>\n",
              "</table>\n",
              "<p>14723 rows × 272 columns</p>\n",
              "</div>"
            ],
            "text/plain": [
              "       RegionID  RegionName                 City State              Metro  \\\n",
              "0         84654       60657              Chicago    IL            Chicago   \n",
              "1         90668       75070             McKinney    TX  Dallas-Fort Worth   \n",
              "2         91982       77494                 Katy    TX            Houston   \n",
              "3         84616       60614              Chicago    IL            Chicago   \n",
              "4         93144       79936              El Paso    TX            El Paso   \n",
              "...         ...         ...                  ...   ...                ...   \n",
              "14718     58333        1338             Ashfield    MA    Greenfield Town   \n",
              "14719     59107        3293            Woodstock    NH          Claremont   \n",
              "14720     75672       40404                Berea    KY           Richmond   \n",
              "14721     93733       81225  Mount Crested Butte    CO                NaN   \n",
              "14722     95851       89155             Mesquite    NV          Las Vegas   \n",
              "\n",
              "      CountyName  SizeRank   1996-04   1996-05   1996-06  ...  2017-07  \\\n",
              "0           Cook         1  334200.0  335400.0  336500.0  ...  1005500   \n",
              "1         Collin         2  235700.0  236900.0  236700.0  ...   308000   \n",
              "2         Harris         3  210400.0  212200.0  212200.0  ...   321000   \n",
              "3           Cook         4  498100.0  500900.0  503100.0  ...  1289800   \n",
              "4        El Paso         5   77300.0   77300.0   77300.0  ...   119100   \n",
              "...          ...       ...       ...       ...       ...  ...      ...   \n",
              "14718   Franklin     14719   94600.0   94300.0   94000.0  ...   216800   \n",
              "14719    Grafton     14720   92700.0   92500.0   92400.0  ...   202100   \n",
              "14720    Madison     14721   57100.0   57300.0   57500.0  ...   121800   \n",
              "14721   Gunnison     14722  191100.0  192400.0  193700.0  ...   662800   \n",
              "14722      Clark     14723  176400.0  176300.0  176100.0  ...   333800   \n",
              "\n",
              "       2017-08  2017-09  2017-10  2017-11  2017-12  2018-01  2018-02  2018-03  \\\n",
              "0      1007500  1007800  1009600  1013300  1018700  1024400  1030700  1033800   \n",
              "1       310000   312500   314100   315000   316600   318100   319600   321100   \n",
              "2       320600   320200   320400   320800   321200   321200   323000   326900   \n",
              "3      1287700  1287400  1291500  1296600  1299000  1302700  1306400  1308500   \n",
              "4       119400   120000   120300   120300   120300   120300   120500   121000   \n",
              "...        ...      ...      ...      ...      ...      ...      ...      ...   \n",
              "14718   217700   218600   218500   218100   216400   213100   209800   209200   \n",
              "14719   208400   212200   215200   214300   213100   213700   218300   222700   \n",
              "14720   122800   124600   126700   128800   130600   131700   132500   133000   \n",
              "14721   671200   682400   695600   695500   694700   706400   705300   681500   \n",
              "14722   336400   339700   343800   346800   348900   350400   353000   356000   \n",
              "\n",
              "       2018-04  \n",
              "0      1030600  \n",
              "1       321800  \n",
              "2       329900  \n",
              "3      1307000  \n",
              "4       121500  \n",
              "...        ...  \n",
              "14718   209300  \n",
              "14719   225800  \n",
              "14720   133400  \n",
              "14721   664400  \n",
              "14722   357200  \n",
              "\n",
              "[14723 rows x 272 columns]"
            ]
          },
          "execution_count": 3,
          "metadata": {},
          "output_type": "execute_result"
        }
      ],
      "source": [
        "#Import data\n",
        "data = pd.read_csv('zillow_data.csv')\n",
        "data"
      ]
    },
    {
      "cell_type": "code",
      "execution_count": 4,
      "metadata": {
        "colab": {
          "base_uri": "https://localhost:8080/"
        },
        "id": "ndzvw7BKUibI",
        "outputId": "2c06494a-514b-4e3e-852f-54ea801c7fd8"
      },
      "outputs": [
        {
          "name": "stdout",
          "output_type": "stream",
          "text": [
            "<class 'pandas.core.frame.DataFrame'>\n",
            "RangeIndex: 14723 entries, 0 to 14722\n",
            "Columns: 272 entries, RegionID to 2018-04\n",
            "dtypes: float64(219), int64(49), object(4)\n",
            "memory usage: 30.6+ MB\n"
          ]
        }
      ],
      "source": [
        "data.info()"
      ]
    },
    {
      "cell_type": "code",
      "execution_count": 5,
      "metadata": {
        "colab": {
          "base_uri": "https://localhost:8080/"
        },
        "id": "54hfh8EsUibI",
        "outputId": "d63bd4aa-54a1-44de-8b18-940273297b4a"
      },
      "outputs": [
        {
          "name": "stdout",
          "output_type": "stream",
          "text": [
            "Column names: Index(['RegionID', 'RegionName', 'City', 'State', 'Metro', 'CountyName',\n",
            "       'SizeRank', '1996-04', '1996-05', '1996-06',\n",
            "       ...\n",
            "       '2017-07', '2017-08', '2017-09', '2017-10', '2017-11', '2017-12',\n",
            "       '2018-01', '2018-02', '2018-03', '2018-04'],\n",
            "      dtype='object', length=272)\n"
          ]
        }
      ],
      "source": [
        "print(f\"Column names: {data.columns}\")"
      ]
    },
    {
      "cell_type": "code",
      "execution_count": 6,
      "metadata": {
        "colab": {
          "base_uri": "https://localhost:8080/"
        },
        "id": "nX7CZebKUibI",
        "outputId": "86b614e9-5ede-4686-c3c9-b6dac9088d2b"
      },
      "outputs": [
        {
          "data": {
            "text/plain": [
              "2047     1\n",
              "661      1\n",
              "12947    1\n",
              "8849     1\n",
              "10896    1\n",
              "        ..\n",
              "3387     1\n",
              "1338     1\n",
              "7481     1\n",
              "5432     1\n",
              "2049     1\n",
              "Name: SizeRank, Length: 14723, dtype: int64"
            ]
          },
          "execution_count": 6,
          "metadata": {},
          "output_type": "execute_result"
        }
      ],
      "source": [
        "data['SizeRank'].value_counts()"
      ]
    },
    {
      "cell_type": "code",
      "execution_count": 7,
      "metadata": {
        "colab": {
          "base_uri": "https://localhost:8080/"
        },
        "id": "8cvfDAgiUibJ",
        "outputId": "52623f63-bd4f-444b-bffb-f825598d7fdc"
      },
      "outputs": [
        {
          "data": {
            "text/plain": [
              "Los Angeles    264\n",
              "Jefferson      175\n",
              "Orange         166\n",
              "Washington     164\n",
              "Montgomery     159\n",
              "              ... \n",
              "Tunica           1\n",
              "Nantucket        1\n",
              "Pasquotank       1\n",
              "Camp             1\n",
              "Russell          1\n",
              "Name: CountyName, Length: 1212, dtype: int64"
            ]
          },
          "execution_count": 7,
          "metadata": {},
          "output_type": "execute_result"
        }
      ],
      "source": [
        "data['CountyName'].value_counts()"
      ]
    },
    {
      "cell_type": "code",
      "execution_count": 8,
      "metadata": {
        "colab": {
          "base_uri": "https://localhost:8080/"
        },
        "id": "F_hkU7WtUibJ",
        "outputId": "6aaf96fa-7a5d-4b8a-ee26-2b136f8f18a2"
      },
      "outputs": [
        {
          "data": {
            "text/plain": [
              "RegionID      14723\n",
              "RegionName    14723\n",
              "City           7554\n",
              "State            51\n",
              "Metro           701\n",
              "              ...  \n",
              "2017-12        5248\n",
              "2018-01        5276\n",
              "2018-02        5303\n",
              "2018-03        5332\n",
              "2018-04        5310\n",
              "Length: 272, dtype: int64"
            ]
          },
          "execution_count": 8,
          "metadata": {},
          "output_type": "execute_result"
        }
      ],
      "source": [
        "data.nunique()"
      ]
    },
    {
      "cell_type": "code",
      "execution_count": 9,
      "metadata": {
        "colab": {
          "base_uri": "https://localhost:8080/"
        },
        "id": "uSK3vUMJcyxC",
        "outputId": "b86d732f-b831-4e5c-c9ca-045902ace621"
      },
      "outputs": [
        {
          "data": {
            "text/plain": [
              "RegionID         0\n",
              "RegionName       0\n",
              "City             0\n",
              "State            0\n",
              "Metro         1043\n",
              "              ... \n",
              "2017-12          0\n",
              "2018-01          0\n",
              "2018-02          0\n",
              "2018-03          0\n",
              "2018-04          0\n",
              "Length: 272, dtype: int64"
            ]
          },
          "execution_count": 9,
          "metadata": {},
          "output_type": "execute_result"
        }
      ],
      "source": [
        "# Here we checked the distribution of null values among the study variables\n",
        "data.isnull().sum()"
      ]
    },
    {
      "cell_type": "markdown",
      "metadata": {
        "id": "oFAr9JbvUibJ"
      },
      "source": [
        "# Data Cleaning"
      ]
    },
    {
      "cell_type": "code",
      "execution_count": 10,
      "metadata": {
        "id": "v4Xluo-TUibJ"
      },
      "outputs": [],
      "source": [
        "#Convert the columns into rows\n",
        "data_new = pd.melt(data, id_vars=data.columns[:7],\n",
        "                  value_vars=data.columns[7:241],\n",
        "                  var_name=\"date\",\n",
        "                  value_name=\"value_of_property\")"
      ]
    },
    {
      "cell_type": "code",
      "execution_count": 11,
      "metadata": {
        "colab": {
          "base_uri": "https://localhost:8080/",
          "height": 423
        },
        "id": "Uuloc9-1UibJ",
        "outputId": "0fc51f8e-1969-4d54-ed76-52296c0c0fdb"
      },
      "outputs": [
        {
          "data": {
            "text/html": [
              "<div>\n",
              "<style scoped>\n",
              "    .dataframe tbody tr th:only-of-type {\n",
              "        vertical-align: middle;\n",
              "    }\n",
              "\n",
              "    .dataframe tbody tr th {\n",
              "        vertical-align: top;\n",
              "    }\n",
              "\n",
              "    .dataframe thead th {\n",
              "        text-align: right;\n",
              "    }\n",
              "</style>\n",
              "<table border=\"1\" class=\"dataframe\">\n",
              "  <thead>\n",
              "    <tr style=\"text-align: right;\">\n",
              "      <th></th>\n",
              "      <th>RegionID</th>\n",
              "      <th>RegionName</th>\n",
              "      <th>City</th>\n",
              "      <th>State</th>\n",
              "      <th>Metro</th>\n",
              "      <th>CountyName</th>\n",
              "      <th>SizeRank</th>\n",
              "      <th>date</th>\n",
              "      <th>value_of_property</th>\n",
              "    </tr>\n",
              "  </thead>\n",
              "  <tbody>\n",
              "    <tr>\n",
              "      <th>0</th>\n",
              "      <td>84654</td>\n",
              "      <td>60657</td>\n",
              "      <td>Chicago</td>\n",
              "      <td>IL</td>\n",
              "      <td>Chicago</td>\n",
              "      <td>Cook</td>\n",
              "      <td>1</td>\n",
              "      <td>1996-04</td>\n",
              "      <td>334200.0</td>\n",
              "    </tr>\n",
              "    <tr>\n",
              "      <th>1</th>\n",
              "      <td>90668</td>\n",
              "      <td>75070</td>\n",
              "      <td>McKinney</td>\n",
              "      <td>TX</td>\n",
              "      <td>Dallas-Fort Worth</td>\n",
              "      <td>Collin</td>\n",
              "      <td>2</td>\n",
              "      <td>1996-04</td>\n",
              "      <td>235700.0</td>\n",
              "    </tr>\n",
              "    <tr>\n",
              "      <th>2</th>\n",
              "      <td>91982</td>\n",
              "      <td>77494</td>\n",
              "      <td>Katy</td>\n",
              "      <td>TX</td>\n",
              "      <td>Houston</td>\n",
              "      <td>Harris</td>\n",
              "      <td>3</td>\n",
              "      <td>1996-04</td>\n",
              "      <td>210400.0</td>\n",
              "    </tr>\n",
              "    <tr>\n",
              "      <th>3</th>\n",
              "      <td>84616</td>\n",
              "      <td>60614</td>\n",
              "      <td>Chicago</td>\n",
              "      <td>IL</td>\n",
              "      <td>Chicago</td>\n",
              "      <td>Cook</td>\n",
              "      <td>4</td>\n",
              "      <td>1996-04</td>\n",
              "      <td>498100.0</td>\n",
              "    </tr>\n",
              "    <tr>\n",
              "      <th>4</th>\n",
              "      <td>93144</td>\n",
              "      <td>79936</td>\n",
              "      <td>El Paso</td>\n",
              "      <td>TX</td>\n",
              "      <td>El Paso</td>\n",
              "      <td>El Paso</td>\n",
              "      <td>5</td>\n",
              "      <td>1996-04</td>\n",
              "      <td>77300.0</td>\n",
              "    </tr>\n",
              "    <tr>\n",
              "      <th>...</th>\n",
              "      <td>...</td>\n",
              "      <td>...</td>\n",
              "      <td>...</td>\n",
              "      <td>...</td>\n",
              "      <td>...</td>\n",
              "      <td>...</td>\n",
              "      <td>...</td>\n",
              "      <td>...</td>\n",
              "      <td>...</td>\n",
              "    </tr>\n",
              "    <tr>\n",
              "      <th>3445177</th>\n",
              "      <td>58333</td>\n",
              "      <td>1338</td>\n",
              "      <td>Ashfield</td>\n",
              "      <td>MA</td>\n",
              "      <td>Greenfield Town</td>\n",
              "      <td>Franklin</td>\n",
              "      <td>14719</td>\n",
              "      <td>2015-09</td>\n",
              "      <td>191900.0</td>\n",
              "    </tr>\n",
              "    <tr>\n",
              "      <th>3445178</th>\n",
              "      <td>59107</td>\n",
              "      <td>3293</td>\n",
              "      <td>Woodstock</td>\n",
              "      <td>NH</td>\n",
              "      <td>Claremont</td>\n",
              "      <td>Grafton</td>\n",
              "      <td>14720</td>\n",
              "      <td>2015-09</td>\n",
              "      <td>189500.0</td>\n",
              "    </tr>\n",
              "    <tr>\n",
              "      <th>3445179</th>\n",
              "      <td>75672</td>\n",
              "      <td>40404</td>\n",
              "      <td>Berea</td>\n",
              "      <td>KY</td>\n",
              "      <td>Richmond</td>\n",
              "      <td>Madison</td>\n",
              "      <td>14721</td>\n",
              "      <td>2015-09</td>\n",
              "      <td>107800.0</td>\n",
              "    </tr>\n",
              "    <tr>\n",
              "      <th>3445180</th>\n",
              "      <td>93733</td>\n",
              "      <td>81225</td>\n",
              "      <td>Mount Crested Butte</td>\n",
              "      <td>CO</td>\n",
              "      <td>NaN</td>\n",
              "      <td>Gunnison</td>\n",
              "      <td>14722</td>\n",
              "      <td>2015-09</td>\n",
              "      <td>539000.0</td>\n",
              "    </tr>\n",
              "    <tr>\n",
              "      <th>3445181</th>\n",
              "      <td>95851</td>\n",
              "      <td>89155</td>\n",
              "      <td>Mesquite</td>\n",
              "      <td>NV</td>\n",
              "      <td>Las Vegas</td>\n",
              "      <td>Clark</td>\n",
              "      <td>14723</td>\n",
              "      <td>2015-09</td>\n",
              "      <td>299200.0</td>\n",
              "    </tr>\n",
              "  </tbody>\n",
              "</table>\n",
              "<p>3445182 rows × 9 columns</p>\n",
              "</div>"
            ],
            "text/plain": [
              "         RegionID  RegionName                 City State              Metro  \\\n",
              "0           84654       60657              Chicago    IL            Chicago   \n",
              "1           90668       75070             McKinney    TX  Dallas-Fort Worth   \n",
              "2           91982       77494                 Katy    TX            Houston   \n",
              "3           84616       60614              Chicago    IL            Chicago   \n",
              "4           93144       79936              El Paso    TX            El Paso   \n",
              "...           ...         ...                  ...   ...                ...   \n",
              "3445177     58333        1338             Ashfield    MA    Greenfield Town   \n",
              "3445178     59107        3293            Woodstock    NH          Claremont   \n",
              "3445179     75672       40404                Berea    KY           Richmond   \n",
              "3445180     93733       81225  Mount Crested Butte    CO                NaN   \n",
              "3445181     95851       89155             Mesquite    NV          Las Vegas   \n",
              "\n",
              "        CountyName  SizeRank     date  value_of_property  \n",
              "0             Cook         1  1996-04           334200.0  \n",
              "1           Collin         2  1996-04           235700.0  \n",
              "2           Harris         3  1996-04           210400.0  \n",
              "3             Cook         4  1996-04           498100.0  \n",
              "4          El Paso         5  1996-04            77300.0  \n",
              "...            ...       ...      ...                ...  \n",
              "3445177   Franklin     14719  2015-09           191900.0  \n",
              "3445178    Grafton     14720  2015-09           189500.0  \n",
              "3445179    Madison     14721  2015-09           107800.0  \n",
              "3445180   Gunnison     14722  2015-09           539000.0  \n",
              "3445181      Clark     14723  2015-09           299200.0  \n",
              "\n",
              "[3445182 rows x 9 columns]"
            ]
          },
          "execution_count": 11,
          "metadata": {},
          "output_type": "execute_result"
        }
      ],
      "source": [
        "data_new"
      ]
    },
    {
      "cell_type": "code",
      "execution_count": 38,
      "metadata": {},
      "outputs": [],
      "source": [
        "Data_new2 = data_new.copy()"
      ]
    },
    {
      "cell_type": "code",
      "execution_count": 39,
      "metadata": {},
      "outputs": [],
      "source": [
        "#Splitting year and month \n",
        "Data_new2[[\"year\",\"month\"]] = Data_new2[\"date\"].str.split(pat=\"-\", n=-1, expand=True).copy()\n",
        "\n",
        "# change datatype of year to datetime\n",
        "Data_new2['year'] = pd.to_datetime(Data_new2['year'])"
      ]
    },
    {
      "cell_type": "code",
      "execution_count": 40,
      "metadata": {},
      "outputs": [
        {
          "data": {
            "text/html": [
              "<div>\n",
              "<style scoped>\n",
              "    .dataframe tbody tr th:only-of-type {\n",
              "        vertical-align: middle;\n",
              "    }\n",
              "\n",
              "    .dataframe tbody tr th {\n",
              "        vertical-align: top;\n",
              "    }\n",
              "\n",
              "    .dataframe thead th {\n",
              "        text-align: right;\n",
              "    }\n",
              "</style>\n",
              "<table border=\"1\" class=\"dataframe\">\n",
              "  <thead>\n",
              "    <tr style=\"text-align: right;\">\n",
              "      <th></th>\n",
              "      <th>RegionID</th>\n",
              "      <th>RegionName</th>\n",
              "      <th>City</th>\n",
              "      <th>State</th>\n",
              "      <th>Metro</th>\n",
              "      <th>CountyName</th>\n",
              "      <th>SizeRank</th>\n",
              "      <th>date</th>\n",
              "      <th>value_of_property</th>\n",
              "      <th>year</th>\n",
              "      <th>month</th>\n",
              "    </tr>\n",
              "  </thead>\n",
              "  <tbody>\n",
              "    <tr>\n",
              "      <th>0</th>\n",
              "      <td>84654</td>\n",
              "      <td>60657</td>\n",
              "      <td>Chicago</td>\n",
              "      <td>IL</td>\n",
              "      <td>Chicago</td>\n",
              "      <td>Cook</td>\n",
              "      <td>1</td>\n",
              "      <td>1996-04</td>\n",
              "      <td>334200.0</td>\n",
              "      <td>1996-01-01</td>\n",
              "      <td>04</td>\n",
              "    </tr>\n",
              "    <tr>\n",
              "      <th>1</th>\n",
              "      <td>90668</td>\n",
              "      <td>75070</td>\n",
              "      <td>McKinney</td>\n",
              "      <td>TX</td>\n",
              "      <td>Dallas-Fort Worth</td>\n",
              "      <td>Collin</td>\n",
              "      <td>2</td>\n",
              "      <td>1996-04</td>\n",
              "      <td>235700.0</td>\n",
              "      <td>1996-01-01</td>\n",
              "      <td>04</td>\n",
              "    </tr>\n",
              "    <tr>\n",
              "      <th>2</th>\n",
              "      <td>91982</td>\n",
              "      <td>77494</td>\n",
              "      <td>Katy</td>\n",
              "      <td>TX</td>\n",
              "      <td>Houston</td>\n",
              "      <td>Harris</td>\n",
              "      <td>3</td>\n",
              "      <td>1996-04</td>\n",
              "      <td>210400.0</td>\n",
              "      <td>1996-01-01</td>\n",
              "      <td>04</td>\n",
              "    </tr>\n",
              "    <tr>\n",
              "      <th>3</th>\n",
              "      <td>84616</td>\n",
              "      <td>60614</td>\n",
              "      <td>Chicago</td>\n",
              "      <td>IL</td>\n",
              "      <td>Chicago</td>\n",
              "      <td>Cook</td>\n",
              "      <td>4</td>\n",
              "      <td>1996-04</td>\n",
              "      <td>498100.0</td>\n",
              "      <td>1996-01-01</td>\n",
              "      <td>04</td>\n",
              "    </tr>\n",
              "    <tr>\n",
              "      <th>4</th>\n",
              "      <td>93144</td>\n",
              "      <td>79936</td>\n",
              "      <td>El Paso</td>\n",
              "      <td>TX</td>\n",
              "      <td>El Paso</td>\n",
              "      <td>El Paso</td>\n",
              "      <td>5</td>\n",
              "      <td>1996-04</td>\n",
              "      <td>77300.0</td>\n",
              "      <td>1996-01-01</td>\n",
              "      <td>04</td>\n",
              "    </tr>\n",
              "    <tr>\n",
              "      <th>...</th>\n",
              "      <td>...</td>\n",
              "      <td>...</td>\n",
              "      <td>...</td>\n",
              "      <td>...</td>\n",
              "      <td>...</td>\n",
              "      <td>...</td>\n",
              "      <td>...</td>\n",
              "      <td>...</td>\n",
              "      <td>...</td>\n",
              "      <td>...</td>\n",
              "      <td>...</td>\n",
              "    </tr>\n",
              "    <tr>\n",
              "      <th>3445177</th>\n",
              "      <td>58333</td>\n",
              "      <td>1338</td>\n",
              "      <td>Ashfield</td>\n",
              "      <td>MA</td>\n",
              "      <td>Greenfield Town</td>\n",
              "      <td>Franklin</td>\n",
              "      <td>14719</td>\n",
              "      <td>2015-09</td>\n",
              "      <td>191900.0</td>\n",
              "      <td>2015-01-01</td>\n",
              "      <td>09</td>\n",
              "    </tr>\n",
              "    <tr>\n",
              "      <th>3445178</th>\n",
              "      <td>59107</td>\n",
              "      <td>3293</td>\n",
              "      <td>Woodstock</td>\n",
              "      <td>NH</td>\n",
              "      <td>Claremont</td>\n",
              "      <td>Grafton</td>\n",
              "      <td>14720</td>\n",
              "      <td>2015-09</td>\n",
              "      <td>189500.0</td>\n",
              "      <td>2015-01-01</td>\n",
              "      <td>09</td>\n",
              "    </tr>\n",
              "    <tr>\n",
              "      <th>3445179</th>\n",
              "      <td>75672</td>\n",
              "      <td>40404</td>\n",
              "      <td>Berea</td>\n",
              "      <td>KY</td>\n",
              "      <td>Richmond</td>\n",
              "      <td>Madison</td>\n",
              "      <td>14721</td>\n",
              "      <td>2015-09</td>\n",
              "      <td>107800.0</td>\n",
              "      <td>2015-01-01</td>\n",
              "      <td>09</td>\n",
              "    </tr>\n",
              "    <tr>\n",
              "      <th>3445180</th>\n",
              "      <td>93733</td>\n",
              "      <td>81225</td>\n",
              "      <td>Mount Crested Butte</td>\n",
              "      <td>CO</td>\n",
              "      <td>NaN</td>\n",
              "      <td>Gunnison</td>\n",
              "      <td>14722</td>\n",
              "      <td>2015-09</td>\n",
              "      <td>539000.0</td>\n",
              "      <td>2015-01-01</td>\n",
              "      <td>09</td>\n",
              "    </tr>\n",
              "    <tr>\n",
              "      <th>3445181</th>\n",
              "      <td>95851</td>\n",
              "      <td>89155</td>\n",
              "      <td>Mesquite</td>\n",
              "      <td>NV</td>\n",
              "      <td>Las Vegas</td>\n",
              "      <td>Clark</td>\n",
              "      <td>14723</td>\n",
              "      <td>2015-09</td>\n",
              "      <td>299200.0</td>\n",
              "      <td>2015-01-01</td>\n",
              "      <td>09</td>\n",
              "    </tr>\n",
              "  </tbody>\n",
              "</table>\n",
              "<p>3445182 rows × 11 columns</p>\n",
              "</div>"
            ],
            "text/plain": [
              "         RegionID  RegionName                 City State              Metro  \\\n",
              "0           84654       60657              Chicago    IL            Chicago   \n",
              "1           90668       75070             McKinney    TX  Dallas-Fort Worth   \n",
              "2           91982       77494                 Katy    TX            Houston   \n",
              "3           84616       60614              Chicago    IL            Chicago   \n",
              "4           93144       79936              El Paso    TX            El Paso   \n",
              "...           ...         ...                  ...   ...                ...   \n",
              "3445177     58333        1338             Ashfield    MA    Greenfield Town   \n",
              "3445178     59107        3293            Woodstock    NH          Claremont   \n",
              "3445179     75672       40404                Berea    KY           Richmond   \n",
              "3445180     93733       81225  Mount Crested Butte    CO                NaN   \n",
              "3445181     95851       89155             Mesquite    NV          Las Vegas   \n",
              "\n",
              "        CountyName  SizeRank     date  value_of_property       year month  \n",
              "0             Cook         1  1996-04           334200.0 1996-01-01    04  \n",
              "1           Collin         2  1996-04           235700.0 1996-01-01    04  \n",
              "2           Harris         3  1996-04           210400.0 1996-01-01    04  \n",
              "3             Cook         4  1996-04           498100.0 1996-01-01    04  \n",
              "4          El Paso         5  1996-04            77300.0 1996-01-01    04  \n",
              "...            ...       ...      ...                ...        ...   ...  \n",
              "3445177   Franklin     14719  2015-09           191900.0 2015-01-01    09  \n",
              "3445178    Grafton     14720  2015-09           189500.0 2015-01-01    09  \n",
              "3445179    Madison     14721  2015-09           107800.0 2015-01-01    09  \n",
              "3445180   Gunnison     14722  2015-09           539000.0 2015-01-01    09  \n",
              "3445181      Clark     14723  2015-09           299200.0 2015-01-01    09  \n",
              "\n",
              "[3445182 rows x 11 columns]"
            ]
          },
          "execution_count": 40,
          "metadata": {},
          "output_type": "execute_result"
        }
      ],
      "source": [
        "Data_new2"
      ]
    },
    {
      "cell_type": "code",
      "execution_count": null,
      "metadata": {},
      "outputs": [],
      "source": []
    },
    {
      "cell_type": "code",
      "execution_count": null,
      "metadata": {
        "colab": {
          "base_uri": "https://localhost:8080/"
        },
        "id": "rle4aLr2X1UM",
        "outputId": "fa2edeb2-a9cd-427e-f8a5-3fcb537fb013"
      },
      "outputs": [],
      "source": [
        "# Here checked on Quality - We looked at the missingness by the City variable based on the value of property column\n",
        "\n",
        "missing_percentage_by_Region = data_new.groupby('RegionName')['value_of_property'].apply(lambda x: x.isnull().mean() * 100)\n",
        "\n",
        "# Then sorted\n",
        "sorted_missing_percentage = missing_percentage_by_Region.sort_values(ascending=False)\n",
        "\n",
        "\n",
        "top_region_missing_data = sorted_missing_percentage.head(10)\n",
        "print(top_region_missing_data)\n"
      ]
    },
    {
      "cell_type": "code",
      "execution_count": null,
      "metadata": {
        "colab": {
          "base_uri": "https://localhost:8080/"
        },
        "id": "HSzVPvWUbMr_",
        "outputId": "686add00-c7c0-498e-e115-b00d46b50092"
      },
      "outputs": [],
      "source": [
        "# I did a count of all cities and the percentage of missingness\n",
        "Regions_with_more_than_1_percent_missing = (missing_percentage_by_Region > 90).sum()\n",
        "\n",
        "Total_Region = data_new['RegionName'].nunique()\n",
        "\n",
        "null_values_in_Region = data_new['RegionName'].isnull().sum()\n",
        "\n",
        "print(f\"Number of Region with more than 1% missing values: {Regions_with_more_than_1_percent_missing}\")\n",
        "print(f\"Total number of Regions in our data:{Total_Region}\")\n",
        "print(f\"Total null values in the Region Field:{null_values_in_Region}\")"
      ]
    },
    {
      "cell_type": "code",
      "execution_count": null,
      "metadata": {
        "id": "pdmwqA3mf3Qn"
      },
      "outputs": [],
      "source": [
        "# Here we replaced missing value in value of property by their mean based on the Metro column.\n",
        "\n",
        "data_new['value_of_property'] = data_new['value_of_property'].fillna(data_new.groupby('RegionName')['value_of_property'].transform('mean'))\n"
      ]
    },
    {
      "cell_type": "code",
      "execution_count": null,
      "metadata": {
        "colab": {
          "base_uri": "https://localhost:8080/"
        },
        "id": "ejflP69bgfvo",
        "outputId": "d17f1b35-0ab7-4d92-9dbb-28bc16f95162"
      },
      "outputs": [],
      "source": [
        "# Confirmed whether we dropped and replaced the null values by the mean\n",
        "data_new.isnull().sum()"
      ]
    },
    {
      "cell_type": "code",
      "execution_count": null,
      "metadata": {
        "colab": {
          "base_uri": "https://localhost:8080/"
        },
        "id": "YaS88Zs5UibK",
        "outputId": "de1d0914-65a2-47b6-fa93-8d013862719a"
      },
      "outputs": [],
      "source": [
        "# descriptive statistics on vlue of property\n",
        "data_new['value_of_property'].describe()"
      ]
    },
    {
      "cell_type": "code",
      "execution_count": null,
      "metadata": {
        "id": "it1mOpdmXHjq"
      },
      "outputs": [],
      "source": [
        "df_zip1 = data_new[(data_new[\"RegionName\"] == 10021) & (data_new[\"State\"] == \"NY\")]\n",
        "\n"
      ]
    },
    {
      "cell_type": "code",
      "execution_count": null,
      "metadata": {
        "id": "SHkj4qSiY1pA"
      },
      "outputs": [],
      "source": [
        "df_zip1f = data_new[(data_new[\"RegionName\"] == 10021)]\n"
      ]
    },
    {
      "cell_type": "code",
      "execution_count": null,
      "metadata": {
        "id": "Gl6GDRWKYwws"
      },
      "outputs": [],
      "source": [
        "df_zip1 = data_new[(data_new[\"RegionName\"] == 81611)]"
      ]
    },
    {
      "cell_type": "code",
      "execution_count": 1,
      "metadata": {
        "colab": {
          "base_uri": "https://localhost:8080/"
        },
        "id": "-PTDUhztYKTk",
        "outputId": "313bc001-4065-4e70-c525-1ba00f2fe18e"
      },
      "outputs": [
        {
          "ename": "NameError",
          "evalue": "name 'df_zip1' is not defined",
          "output_type": "error",
          "traceback": [
            "\u001b[1;31m---------------------------------------------------------------------------\u001b[0m",
            "\u001b[1;31mNameError\u001b[0m                                 Traceback (most recent call last)",
            "\u001b[1;32m<ipython-input-1-9f1d9812389f>\u001b[0m in \u001b[0;36m<module>\u001b[1;34m\u001b[0m\n\u001b[1;32m----> 1\u001b[1;33m \u001b[0mdf_len\u001b[0m \u001b[1;33m=\u001b[0m \u001b[0mlen\u001b[0m\u001b[1;33m(\u001b[0m\u001b[0mdf_zip1\u001b[0m\u001b[1;33m)\u001b[0m\u001b[1;33m\u001b[0m\u001b[1;33m\u001b[0m\u001b[0m\n\u001b[0m\u001b[0;32m      2\u001b[0m \u001b[0mdf_len\u001b[0m\u001b[1;33m\u001b[0m\u001b[1;33m\u001b[0m\u001b[0m\n",
            "\u001b[1;31mNameError\u001b[0m: name 'df_zip1' is not defined"
          ]
        }
      ],
      "source": [
        "\n",
        "df_len = len(df_zip1)\n",
        "df_len"
      ]
    },
    {
      "cell_type": "code",
      "execution_count": null,
      "metadata": {
        "colab": {
          "base_uri": "https://localhost:8080/"
        },
        "id": "lCt8AOCjam6F",
        "outputId": "f85d7618-8c52-4fb7-a287-8327ac549b79"
      },
      "outputs": [],
      "source": [
        "len_d = len(data_new)\n",
        "len_d"
      ]
    },
    {
      "cell_type": "code",
      "execution_count": null,
      "metadata": {
        "colab": {
          "base_uri": "https://localhost:8080/"
        },
        "id": "r9_QesDeaLVe",
        "outputId": "61b0d138-cf04-4d9e-9dde-bb4c5978bc07"
      },
      "outputs": [],
      "source": [
        "data_new.nunique()"
      ]
    },
    {
      "cell_type": "code",
      "execution_count": null,
      "metadata": {
        "id": "l8AzoKbfUibK"
      },
      "outputs": [],
      "source": [
        "# Convert date to a datetime column\n",
        "data_new['date'] = pd.to_datetime(data_new['date'])"
      ]
    },
    {
      "cell_type": "code",
      "execution_count": null,
      "metadata": {
        "colab": {
          "base_uri": "https://localhost:8080/"
        },
        "id": "ztVlrM4IUibK",
        "outputId": "a360c6a8-b946-47c1-c7b8-9bf978a48853"
      },
      "outputs": [],
      "source": [
        "data_new.info()"
      ]
    },
    {
      "cell_type": "markdown",
      "metadata": {
        "id": "GllUXp3JUibL"
      },
      "source": [
        "# EDA"
      ]
    },
    {
      "cell_type": "code",
      "execution_count": null,
      "metadata": {
        "colab": {
          "base_uri": "https://localhost:8080/"
        },
        "id": "xFkpJKSKUibL",
        "outputId": "f0875e16-940d-4f3d-a3d5-21da297bea2f"
      },
      "outputs": [],
      "source": [
        "# Top 10 states with highest mean value of property\n",
        "data_top_10_states=data_new.groupby('State').aggregate({'value_of_property':'mean'})[\"value_of_property\"].nlargest(10)\n",
        "data_top_10_states"
      ]
    },
    {
      "cell_type": "code",
      "execution_count": null,
      "metadata": {
        "id": "VgYwfaLCUibL",
        "outputId": "96901f77-0504-4d28-ad0a-a6b55b44b03f"
      },
      "outputs": [],
      "source": [
        "data_top_10_states.plot.bar()\n",
        "plt.title(\"Top 10 states with highest average value of property\")"
      ]
    },
    {
      "cell_type": "code",
      "execution_count": null,
      "metadata": {
        "id": "oca2IUeoUibL",
        "outputId": "e24c0e7e-2108-4f29-9be9-aaf2f942ae7f"
      },
      "outputs": [],
      "source": [
        "# top 10 zip codes (Region Name) in terms of property value\n",
        "data_top_10_zipcodes=data_new.groupby(['State','RegionName']).aggregate({'value_of_property':'mean'})[\"value_of_property\"].nlargest(10)\n",
        "data_top_10_zipcodes"
      ]
    },
    {
      "cell_type": "code",
      "execution_count": null,
      "metadata": {
        "id": "gxk2ma8xUibL",
        "outputId": "b8971b92-2f6b-4c39-df1c-7604cb27e6ff"
      },
      "outputs": [],
      "source": [
        "data_top_10_zipcodes.plot.bar()\n",
        "plt.title(\"Top 10 Zip codes with highest average value of property\")"
      ]
    },
    {
      "cell_type": "code",
      "execution_count": null,
      "metadata": {
        "id": "eAno2TYqUibL",
        "outputId": "2a0d2a9f-acbd-484e-ef3e-efdb2323f431"
      },
      "outputs": [],
      "source": [
        "# group all data (for all zipcodes/states) in a time series\n",
        "data_all_grouped_by_date = data_new.groupby('date').aggregate({'value_of_property':'mean'})\n",
        "data_all_grouped_by_date"
      ]
    },
    {
      "cell_type": "code",
      "execution_count": null,
      "metadata": {
        "id": "JYpA0n0MUibL",
        "outputId": "f4f9fad5-7eab-4762-b9ef-b1e3e3f4a64e"
      },
      "outputs": [],
      "source": [
        "# time series line plot  - for all the data\n",
        "data_all_grouped_by_date.plot(figsize = (16,6));"
      ]
    },
    {
      "cell_type": "code",
      "execution_count": null,
      "metadata": {
        "id": "_-4GlDT7UibL",
        "outputId": "7bcdfa74-e31d-49d2-859b-337ca1ea93d0"
      },
      "outputs": [],
      "source": [
        "# time series histogram  - for all the data\n",
        "data_all_grouped_by_date.hist();"
      ]
    },
    {
      "cell_type": "code",
      "execution_count": null,
      "metadata": {
        "id": "_OcsGeOVUibL",
        "outputId": "95829579-f52e-42da-eb06-86952f06e25c"
      },
      "outputs": [],
      "source": [
        "# time series density plot  - for all the data\n",
        "data_all_grouped_by_date.plot(kind='kde');"
      ]
    },
    {
      "cell_type": "code",
      "execution_count": null,
      "metadata": {
        "id": "Q1lueWrKUibM"
      },
      "outputs": [],
      "source": [
        "# ??Conclusion of above plots???"
      ]
    },
    {
      "cell_type": "code",
      "execution_count": null,
      "metadata": {},
      "outputs": [],
      "source": [
        "df_zip1f.head()"
      ]
    },
    {
      "cell_type": "code",
      "execution_count": null,
      "metadata": {},
      "outputs": [],
      "source": [
        "#drop irrelevant columns\n",
        "df_zip1f_grouped_by_date = df_zip1f.groupby('date').aggregate({'value_of_property': 'mean'})\n",
        "df_zip1f_grouped_by_date"
      ]
    },
    {
      "cell_type": "code",
      "execution_count": 14,
      "metadata": {},
      "outputs": [
        {
          "ename": "NameError",
          "evalue": "name 'df_zip1f_grouped_by_date' is not defined",
          "output_type": "error",
          "traceback": [
            "\u001b[1;31m---------------------------------------------------------------------------\u001b[0m",
            "\u001b[1;31mNameError\u001b[0m                                 Traceback (most recent call last)",
            "\u001b[1;32m<ipython-input-14-38589a1450c9>\u001b[0m in \u001b[0;36m<module>\u001b[1;34m\u001b[0m\n\u001b[1;32m----> 1\u001b[1;33m \u001b[0mdf_zip1f_grouped_by_date\u001b[0m\u001b[1;33m.\u001b[0m\u001b[0mplot\u001b[0m\u001b[1;33m(\u001b[0m\u001b[0mfigsize\u001b[0m\u001b[1;33m=\u001b[0m\u001b[1;33m(\u001b[0m\u001b[1;36m12\u001b[0m\u001b[1;33m,\u001b[0m\u001b[1;36m6\u001b[0m\u001b[1;33m)\u001b[0m\u001b[1;33m,\u001b[0m \u001b[0mlinewidth\u001b[0m\u001b[1;33m=\u001b[0m\u001b[1;36m2\u001b[0m\u001b[1;33m,\u001b[0m \u001b[0mfontsize\u001b[0m\u001b[1;33m=\u001b[0m\u001b[1;36m10\u001b[0m\u001b[1;33m)\u001b[0m\u001b[1;33m;\u001b[0m\u001b[1;33m\u001b[0m\u001b[1;33m\u001b[0m\u001b[0m\n\u001b[0m",
            "\u001b[1;31mNameError\u001b[0m: name 'df_zip1f_grouped_by_date' is not defined"
          ]
        }
      ],
      "source": [
        "df_zip1f_grouped_by_date.plot(figsize=(12,6), linewidth=2, fontsize=10);"
      ]
    },
    {
      "cell_type": "markdown",
      "metadata": {
        "id": "KUB3Hk3Jivun"
      },
      "source": [
        "## Model Preparation"
      ]
    },
    {
      "cell_type": "code",
      "execution_count": 34,
      "metadata": {},
      "outputs": [],
      "source": [
        "#How we spread risk?\n",
        "# by picking the top zipcode in NY and the other top zipcodes from the top 4 states "
      ]
    },
    {
      "cell_type": "code",
      "execution_count": null,
      "metadata": {},
      "outputs": [],
      "source": [
        "#Drop the null values from 1996 - 2003"
      ]
    },
    {
      "cell_type": "code",
      "execution_count": 46,
      "metadata": {},
      "outputs": [],
      "source": [
        "# Define a function that selects a state and display missing values\n",
        "\n",
        "def missingValues(x):\n",
        "    State = Data_new2[(Data_new2[\"RegionName\"] == x)]\n",
        "\n",
        "    # drop the month column\n",
        "    #NewYork.drop([\"date\",\"month\"],axis=1,inplace=True)\n",
        "\n",
        "    #create a variable that checks which years contain the null values\n",
        "    missing_values = State[State['value_of_property'].isnull()]\n",
        "    #print(missing_values)\n",
        "\n",
        "    #missing values by year\n",
        "    missing_values_by_year = missing_values.groupby('year').size()\n",
        "    print(missing_values_by_year)\n",
        "\n",
        "    #aggregate the values\n",
        "    State_grouped_by_date = State.groupby('year').aggregate({'value_of_property': 'mean'})\n",
        "    #print(State_grouped_by_date)\n",
        "\n",
        "    # Plot the time series\n",
        "    State_grouped_by_date.plot(figsize=(12,6), linewidth=2, fontsize=10);\n",
        "\n",
        "    "
      ]
    },
    {
      "cell_type": "code",
      "execution_count": 49,
      "metadata": {},
      "outputs": [
        {
          "name": "stdout",
          "output_type": "stream",
          "text": [
            "year\n",
            "1996-01-01     9\n",
            "1997-01-01    12\n",
            "1998-01-01    12\n",
            "1999-01-01    12\n",
            "2000-01-01    12\n",
            "2001-01-01    12\n",
            "2002-01-01    12\n",
            "2003-01-01    12\n",
            "dtype: int64\n"
          ]
        },
        {
          "data": {
            "image/png": "[encoded data removed]",
            "text/plain": [
              "<Figure size 864x432 with 1 Axes>"
            ]
          },
          "metadata": {
            "needs_background": "light"
          },
          "output_type": "display_data"
        }
      ],
      "source": [
        "#NewYork missing values\n",
        "NY_zip1 = missingValues(10021)\n",
        "NY_zip1"
      ]
    },
    {
      "cell_type": "code",
      "execution_count": 51,
      "metadata": {},
      "outputs": [
        {
          "name": "stdout",
          "output_type": "stream",
          "text": [
            "Series([], dtype: int64)\n"
          ]
        },
        {
          "data": {
            "image/png": "[encoded data removed]",
            "text/plain": [
              "<Figure size 864x432 with 1 Axes>"
            ]
          },
          "metadata": {
            "needs_background": "light"
          },
          "output_type": "display_data"
        }
      ],
      "source": [
        "#California \n",
        "CA_zip1=  missingValues(94027)\n",
        "CA_zip1"
      ]
    },
    {
      "cell_type": "code",
      "execution_count": 52,
      "metadata": {},
      "outputs": [
        {
          "name": "stdout",
          "output_type": "stream",
          "text": [
            "Series([], dtype: int64)\n"
          ]
        },
        {
          "data": {
            "image/png": "[encoded data removed]",
            "text/plain": [
              "<Figure size 864x432 with 1 Axes>"
            ]
          },
          "metadata": {
            "needs_background": "light"
          },
          "output_type": "display_data"
        }
      ],
      "source": [
        "# CO\n",
        "CO_zip1 = missingValues(81611)\n",
        "CO_zip1"
      ]
    },
    {
      "cell_type": "code",
      "execution_count": 54,
      "metadata": {},
      "outputs": [
        {
          "name": "stdout",
          "output_type": "stream",
          "text": [
            "Series([], dtype: int64)\n"
          ]
        },
        {
          "data": {
            "image/png": "[encoded data removed]",
            "text/plain": [
              "<Figure size 864x432 with 1 Axes>"
            ]
          },
          "metadata": {
            "needs_background": "light"
          },
          "output_type": "display_data"
        }
      ],
      "source": [
        "#Florida\n",
        "FL_zip1 = missingValues(33480)\n",
        "FL_zip1"
      ]
    },
    {
      "cell_type": "code",
      "execution_count": 55,
      "metadata": {},
      "outputs": [
        {
          "name": "stdout",
          "output_type": "stream",
          "text": [
            "year\n",
            "1996-01-01     9\n",
            "1997-01-01    12\n",
            "1998-01-01    12\n",
            "1999-01-01    12\n",
            "2000-01-01    12\n",
            "2001-01-01    12\n",
            "2002-01-01    12\n",
            "2003-01-01    12\n",
            "2004-01-01    12\n",
            "2005-01-01     6\n",
            "dtype: int64\n"
          ]
        },
        {
          "data": {
            "image/png": "[encoded data removed]",
            "text/plain": [
              "<Figure size 864x432 with 1 Axes>"
            ]
          },
          "metadata": {
            "needs_background": "light"
          },
          "output_type": "display_data"
        }
      ],
      "source": [
        "#GA\n",
        "GA_zip1 = missingValues(31561)\n",
        "GA_zip1"
      ]
    },
    {
      "cell_type": "code",
      "execution_count": null,
      "metadata": {},
      "outputs": [],
      "source": [
        "#Drop the first years\n",
        "#Stationarity\n"
      ]
    }
  ],
  "metadata": {
    "colab": {
      "provenance": []
    },
    "kernelspec": {
      "display_name": "Python (learn-env)",
      "language": "python",
      "name": "learn-env"
    },
    "language_info": {
      "codemirror_mode": {
        "name": "ipython",
        "version": 3
      },
      "file_extension": ".py",
      "mimetype": "text/x-python",
      "name": "python",
      "nbconvert_exporter": "python",
      "pygments_lexer": "ipython3",
      "version": "3.8.5"
    }
  },
  "nbformat": 4,
  "nbformat_minor": 0
}
